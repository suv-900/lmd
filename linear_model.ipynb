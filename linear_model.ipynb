import math

# groud truth w = 2 and b = -1
w = 5
b = 0
X = [-1,0,1,2,3,4]
Y = [-3,-1,1,3,5,7]
myY = []

for x in X:
  res = w*x + b
  myY.append(res)

print("real y: "+ str(Y))
print("my y: "+str(myY))

# predicted values - actual values = loss
sum = 0
size = len(Y)
for i in range(0,size):
  sum += ((Y[i] - myY[i])  ** 2)

print("loss: ",str(math.sqrt(sum)))
